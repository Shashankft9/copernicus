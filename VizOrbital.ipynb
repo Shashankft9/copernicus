from pyorbital.orbital import Orbital
from datetime import datetime, timedelta 
import folium
# PYORBITAL DOCUMENTATION
# https://pyorbital.readthedocs.io/en/latest/
# PyOrbital get_position and get_lonlatalt cases
# Use current TLEs from Celestrak: http://celestrak.com/NORAD/elements/

# SATELLITE
sat = "SENTINEL-3A"

#orb = Orbital('SENTINEL-3A', tle_file='./EO_Sat.txt')
orb = Orbital(sat)

now = datetime.utcnow()

# Get position and velocity of the satellite:
print(orb.get_position(now, normalize=False))

# Get longitude, latitude and altitude of the satellite:
print(orb.get_lonlatalt(now))
